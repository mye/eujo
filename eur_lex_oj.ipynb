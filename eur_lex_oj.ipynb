{
 "cells": [
  {
   "cell_type": "markdown",
   "id": "19440696-6129-4c65-a8ce-b043f577c730",
   "metadata": {},
   "source": [
    "<div style=\"text-align: right; font-style: italic\">Lorenz Köhl\n",
    "<br>\n",
    "December 2022</div>\n",
    "\n",
    "\n",
    "# EU Official Journal semantic search (WIP)\n",
    "\n",
    "This notebook shows how to prepare the EU official journal data for programmatic use, for example to use in ML applications (eg. download, deduplication, parsing etc.)"
   ]
  },
  {
   "cell_type": "markdown",
   "id": "b1c939cf-a45c-4844-ac88-af5cb8eed49b",
   "metadata": {
    "tags": []
   },
   "source": [
    "### Imports and setup"
   ]
  },
  {
   "cell_type": "code",
   "execution_count": null,
   "id": "2fef5d2c-7243-4624-a3e2-5a11bda28cba",
   "metadata": {
    "tags": []
   },
   "outputs": [],
   "source": [
    "#!pip install sparqlwrapper\n",
    "#!pip install plotnine"
   ]
  },
  {
   "cell_type": "code",
   "execution_count": 1,
   "id": "3a46996c-cc0a-4448-9b98-5a18a2e20fe8",
   "metadata": {},
   "outputs": [],
   "source": [
    "import numpy as np\n",
    "import pandas as pd\n",
    "\n",
    "from SPARQLWrapper import SPARQLWrapper, JSON\n",
    "\n",
    "import urllib3\n",
    "import json\n",
    "from urllib.parse import unquote_plus\n",
    "from zipfile import ZipFile, BadZipFile\n",
    "\n",
    "from io import StringIO, BytesIO\n",
    "import xml.etree.ElementTree as ET\n",
    "\n",
    "from string import Template\n",
    "\n",
    "import concurrent.futures\n",
    "# plotting libs\n",
    "import matplotlib.pyplot as plt\n",
    "import plotnine as p9\n",
    "\n",
    "# suppress plotnine warnings\n",
    "import warnings\n",
    "warnings.filterwarnings('ignore')\n",
    "\n",
    "# setup plotnine look and feel\n",
    "p9.theme_set(\n",
    "  p9.theme_grey() + \n",
    "  p9.theme(text=p9.element_text(size=10),\n",
    "        plot_title=p9.element_text(size=14),\n",
    "        axis_title_x=p9.element_text(size=12),\n",
    "        axis_title_y=p9.element_text(size=12),\n",
    "        axis_text_x=p9.element_text(size=8),\n",
    "        axis_text_y=p9.element_text(size=8)\n",
    "       )\n",
    ")\n",
    "xlabels_90 = p9.theme(axis_text_x = p9.element_text(angle=90, hjust=1))\n",
    "\n",
    "pd.set_option('display.precision', 2)"
   ]
  },
  {
   "cell_type": "markdown",
   "id": "7ee81b85-0ea2-4cab-b626-5e90684b16de",
   "metadata": {
    "tags": []
   },
   "source": [
    "### Download utilities \n",
    "\n",
    "For downloading the EU Official Journal.\n",
    "\n",
    "A SPARQL query is used by EUR-Lex to provide access to files.  \n",
    "It generates a tabulation of URLs to download zipped document collections which appeared in a given year in the column `fmx4_to_download`"
   ]
  },
  {
   "cell_type": "code",
   "execution_count": 50,
   "id": "07d164f9-757f-4b30-9b54-fc612c6bcb97",
   "metadata": {
    "tags": []
   },
   "outputs": [],
   "source": [
    "query_template = Template(\"\"\"\\\n",
    "PREFIX cdm: <http://publications.europa.eu/ontology/cdm#>\n",
    "SELECT distinct ?OJ ?title_ group_concat(distinct ?author; separator=\",\") as ?authors ?date_document ?manif_fmx4 ?fmx4_to_download\n",
    "WHERE \n",
    "{\n",
    "  ?work a cdm:official-journal.\n",
    "  ?work cdm:work_date_document ?date_document.\n",
    "  FILTER(substr(str(?date_document),1,4)='$year')\n",
    "  ?work cdm:work_created_by_agent ?author.\n",
    "  ?work owl:sameAs ?OJ.\n",
    "  FILTER(regex(str(?OJ),'/oj/'))\n",
    "  OPTIONAL{?exp cdm:expression_title ?title.\n",
    "    ?exp cdm:expression_uses_language ?lang.\n",
    "    ?exp cdm:expression_belongs_to_work ?work.\n",
    "    FILTER(?lang =<http://publications.europa.eu/resource/authority/language/ENG>)\n",
    "    OPTIONAL{?manif_fmx4 cdm:manifestation_manifests_expression ?exp.\n",
    "      ?manif_fmx4 cdm:manifestation_type ?type_fmx4.\n",
    "      FILTER(str(?type_fmx4)='fmx4')\n",
    "    }\n",
    "  }\n",
    "  BIND(IF(BOUND(?title),?title,'The Official Journal does not exist in that language'@en) as ?title_)\n",
    "  BIND(IF(BOUND(?manif_fmx4),IRI(concat(?manif_fmx4,\"/zip\")),\"\") as ?fmx4_to_download)\n",
    "} order by ?date_document\n",
    "\"\"\")\n",
    "\n",
    "def query_OJ_urls(year: int) -> [str]:\n",
    "    \"Return a list of download URLs for OJ documents of a given year\"\n",
    "    sparql = SPARQLWrapper('http://publications.europa.eu/webapi/rdf/sparql')\n",
    "    sparql.setReturnFormat(JSON)\n",
    "    sparql.setQuery(query_template.substitute(year=year))\n",
    "    try:\n",
    "        ret = sparql.queryAndConvert()\n",
    "        fmx4s = [r[\"fmx4_to_download\"] for r in ret[\"results\"][\"bindings\"]]\n",
    "        dl_uris = [o['value'] for o in fmx4s if o['type'] == 'uri']\n",
    "        return dl_uris\n",
    "    except Exception as e:\n",
    "        print(e)\n",
    "\n",
    "def download_xml_zip(url, http, timeout=28.0) -> dict:\n",
    "    \"Download the zip at the given URL. Provide a dict from xml filenames to xml content\"\n",
    "    with BytesIO() as f:\n",
    "        r = http.request('GET', url, timeout=timeout)\n",
    "        if r.status == 200: # urllib3 follows three redirects by default\n",
    "            f.write(r.data)\n",
    "            z = ZipFile(f)\n",
    "            return {name: z.read(name).decode('utf-8')\n",
    "                    for name in z.namelist() if name.endswith('.xml')}\n",
    "        else:\n",
    "            raise urllib3.exceptions.HTTPError(f'HttpError {r.status}: {r.data.decode(\"utf-8\")}')\n",
    "\n",
    "def download_OJ_year(year) -> [dict]:\n",
    "    \"\"\" Download all files from the EU Official Journal for the given year, concurrently.\n",
    "        Provides a list of dictionaries which map filenames to file content \"\"\"\n",
    "    # We will download documents in parallel using a thread pool\n",
    "    # Must set connection pool size >1 to get parallel DLs\n",
    "    http = urllib3.PoolManager(maxsize=10)\n",
    "    urls = query_OJ_urls(year)\n",
    "\n",
    "    print(f'Downloading {len(urls)} URLs for {year}')\n",
    "    \n",
    "    result = []\n",
    "    with concurrent.futures.ThreadPoolExecutor(max_workers=10) as executor:\n",
    "        load_fn = download_xml_zip\n",
    "        future_url = {executor.submit(load_fn, url, http): url for url in urls}\n",
    "        for future in concurrent.futures.as_completed(future_url):\n",
    "            url = future_url[future]\n",
    "            try:\n",
    "                dictionary = future.result()\n",
    "                result.append(dictionary)\n",
    "            except Exception as exc:\n",
    "                print('%r: %s' % (url, exc))\n",
    "    return result"
   ]
  },
  {
   "cell_type": "markdown",
   "id": "cd0974af-a415-4798-9786-8f1f44a364b6",
   "metadata": {
    "jp-MarkdownHeadingCollapsed": true,
    "tags": []
   },
   "source": [
    "### A database of documents\n",
    "\n",
    "To cleanly separate the data downloading part from the rest of the project, create a simple sqlite database to keep the raw XML of the official journal documents on disk.\n",
    "\n",
    "Note that the downloaded archives contain many repeated files with the same content: here we get extra value from sqlite, which deduplicates the data for us, by defining a primary key over the file content. This way we don't have to write extra logic to ensure uniqueness."
   ]
  },
  {
   "cell_type": "code",
   "execution_count": 28,
   "id": "f7a8d6d4-d797-45cb-a93e-eff867f61931",
   "metadata": {},
   "outputs": [],
   "source": [
    "import sqlite3\n",
    "from itertools import islice"
   ]
  },
  {
   "cell_type": "code",
   "execution_count": 29,
   "id": "2a89ec95-a54f-4516-ab3d-4aff7d161f21",
   "metadata": {},
   "outputs": [],
   "source": [
    "def batched(iterable, n): # useful for eg. batching sqlite transactions or downloads, included in python 3.12\n",
    "    if n < 1:\n",
    "        raise ValueError('n must be at least one')\n",
    "    it = iter(iterable)\n",
    "    while (batch := tuple(islice(it, n))):\n",
    "        yield batch"
   ]
  },
  {
   "cell_type": "code",
   "execution_count": 30,
   "id": "b30ac828-452c-459b-9761-e36aebe61c51",
   "metadata": {},
   "outputs": [],
   "source": [
    "raw_docs_table_sql = \"\"\"\\\n",
    "create table if not exists oj (\n",
    "  year integer not null,\n",
    "  filename text not null,\n",
    "  content text not null,\n",
    "  primary key (year, filename, content)\n",
    ");\n",
    "\"\"\"\n",
    "raw_docs_insert_sql = \"insert into oj (year, filename, content) values (:year, :filename, :content)\""
   ]
  },
  {
   "cell_type": "code",
   "execution_count": 40,
   "id": "42b851bc-c42e-435a-8191-4ac33e7a20fd",
   "metadata": {},
   "outputs": [],
   "source": [
    "def insert_file_dicts(con, year, file_dicts: [dict]):\n",
    "    \"Insert dictionaries representing xml files into the given sqlite DB\"\n",
    "    count = 0\n",
    "    for batch in batched(file_dicts, 50):\n",
    "        con.execute('BEGIN TRANSACTION')\n",
    "        for dic in batch:\n",
    "            for filename, content in dic.items():\n",
    "                d = dict(filename=filename, content=content, year=year)\n",
    "                try:\n",
    "                    con.execute(raw_docs_insert_sql, d)\n",
    "                    count += 1\n",
    "                except sqlite3.IntegrityError:\n",
    "                    pass # ignore duplicate files present in the data\n",
    "        con.execute('COMMIT')\n",
    "    print(f'Inserted {count} files')"
   ]
  },
  {
   "cell_type": "code",
   "execution_count": 32,
   "id": "8e252504-6154-42a4-b8a1-ed009868aea5",
   "metadata": {},
   "outputs": [],
   "source": [
    "con = sqlite3.connect(\"eurlex.db\")\n",
    "con.execute(raw_docs_table_sql);"
   ]
  },
  {
   "cell_type": "code",
   "execution_count": 491,
   "id": "b19c1fa3-a2a7-4a9a-998b-23b90f2d31bf",
   "metadata": {},
   "outputs": [],
   "source": [
    "con.close()"
   ]
  },
  {
   "cell_type": "markdown",
   "id": "d6ebf636-f1a9-4087-a6c0-dc8de5461cee",
   "metadata": {},
   "source": [
    "Download the OJ documents into sqlite to create the basis the dataset"
   ]
  },
  {
   "cell_type": "code",
   "execution_count": null,
   "id": "148bbc60-c759-45bd-adc7-ec8d2e7b56d1",
   "metadata": {
    "tags": []
   },
   "outputs": [],
   "source": [
    "%%time\n",
    "for year in range(2009, 2023):\n",
    "    file_dicts = download_OJ_year(year)\n",
    "    insert_file_dicts(con, year, file_dicts)"
   ]
  },
  {
   "cell_type": "code",
   "execution_count": 39,
   "id": "cd6da26e-55f6-40da-9f92-b8cb47c851cb",
   "metadata": {},
   "outputs": [
    {
     "name": "stdout",
     "output_type": "stream",
     "text": [
      "8.8G\teurlex.db\n"
     ]
    }
   ],
   "source": [
    "!du -sh eurlex.db"
   ]
  },
  {
   "cell_type": "markdown",
   "id": "77c9eeea-09f6-4eaa-bba9-6cd1a6ebe536",
   "metadata": {
    "tags": []
   },
   "source": [
    "### XML utilities\n",
    "\n",
    "The documents from the official journal are formated in an XML schema called Formex. We transform the files into python dictionaries to make them easier to handle with python"
   ]
  },
  {
   "cell_type": "code",
   "execution_count": 132,
   "id": "ee321d99-5b36-4034-b61b-1b9fef5249cf",
   "metadata": {},
   "outputs": [],
   "source": [
    "def xml_dict(parse_events) -> dict:\n",
    "    \"\"\" Create a nested python dict from a sequence of xml parse events\n",
    "        Collects children by tag name, and ignores order of appearance of distinct tags \"\"\"\n",
    "    nodes = [dict()]\n",
    "    for ev, el in parse_events:\n",
    "        if ev == 'start':\n",
    "            parent, child = nodes[-1], dict()\n",
    "            match parent:\n",
    "                case {el.tag: dict() as sibling}:\n",
    "                    parent[el.tag] = [sibling, child]\n",
    "                case {el.tag: list() as l}:\n",
    "                    l.append(child)\n",
    "                case _:\n",
    "                    parent[el.tag] = child              \n",
    "            nodes.append(child)\n",
    "        elif ev == 'end':\n",
    "            node = nodes.pop()\n",
    "            if el.attrib: node['attr'] = el.attrib\n",
    "            if el.text: node['text'] = el.text\n",
    "    return nodes.pop()\n",
    "\n",
    "def doc_dict(doc: str) -> dict:\n",
    "    \"Tree repr of xml document\"\n",
    "    with StringIO(doc) as f:\n",
    "        return xml_dict(ET.iterparse(f, events=('start', 'end')))"
   ]
  },
  {
   "cell_type": "markdown",
   "id": "3a23d0b8-db70-4e29-8d1f-a26b0d51bf69",
   "metadata": {},
   "source": [
    "Here is a small test that illustrates the use of `xml_dict`:"
   ]
  },
  {
   "cell_type": "code",
   "execution_count": 44,
   "id": "66baca2a-8e7f-410b-a9d3-2134f1920211",
   "metadata": {
    "tags": []
   },
   "outputs": [
    {
     "name": "stdout",
     "output_type": "stream",
     "text": [
      "{'doc': {'p': [{'a': {'attr': {'href': 'baz'}, 'text': 'foo'}, 'b': {'text': 'zod'}}, {'text': 'bar'}], 'text': '\\n    '}}\n"
     ]
    }
   ],
   "source": [
    "xml_test = \"\"\"\n",
    "<doc>\n",
    "    <p><a href=\"baz\">foo</a><b>zod</b></p>\n",
    "    <p>bar</p>\n",
    "</doc>\"\"\"\n",
    "with StringIO(xml_test) as f:\n",
    "    test_dict = xml_dict(ET.iterparse(f, events=('start', 'end')))\n",
    "    assert len(test_dict['doc']['p']) == 2 # <doc> has two <p> children\n",
    "    print(test_dict)"
   ]
  },
  {
   "cell_type": "markdown",
   "id": "ab4cade7-0254-4a2d-bb7a-affc66b1ffd6",
   "metadata": {},
   "source": [
    "Since we represent parsed documents as a tree containing dictionaries and lists we also need a utility to linearize this representation. For example to create sentences of (parts of) a document we are interested in:"
   ]
  },
  {
   "cell_type": "code",
   "execution_count": 45,
   "id": "7d1d2097-70d5-4317-ab92-5bec45c9fbaa",
   "metadata": {},
   "outputs": [],
   "source": [
    "def string_items(root: dict):\n",
    "    \"Generate all key-value pairs contained in (nested) dict, where value is of type string\"\n",
    "    for item in root.items():\n",
    "        match item:\n",
    "            case (_, dict() as d):\n",
    "                yield from string_items(d)\n",
    "            case (_, list() as lst):\n",
    "                for el in lst:\n",
    "                    if type(el) is dict:\n",
    "                        yield from string_items(el)\n",
    "            case (k, str() as s):\n",
    "                yield (k, s)\n",
    "            case _: return\n",
    "\n",
    "def dict_text(d: dict) -> str:\n",
    "    \"Given a document tree, append all ['text'] values to form a string\"\n",
    "    return ' '.join(v.strip() for k,v in string_items(d) if k == 'text').strip()"
   ]
  },
  {
   "cell_type": "markdown",
   "id": "385f16d9-040f-421b-a94a-ce16611d0ed9",
   "metadata": {},
   "source": [
    "Continuing the example we get:"
   ]
  },
  {
   "cell_type": "code",
   "execution_count": 46,
   "id": "824a7a0a-43ed-4825-8f39-bc9d420d344f",
   "metadata": {},
   "outputs": [
    {
     "data": {
      "text/plain": [
       "'foo zod bar'"
      ]
     },
     "execution_count": 46,
     "metadata": {},
     "output_type": "execute_result"
    }
   ],
   "source": [
    "dict_text(test_dict)"
   ]
  },
  {
   "cell_type": "markdown",
   "id": "48818db9-2cda-473f-99bf-f589f27bc750",
   "metadata": {},
   "source": [
    "### Preliminary data analysis\n",
    "\n",
    "To get an idea of the size and shape of data we start with plots and summaries of the raw data"
   ]
  },
  {
   "cell_type": "code",
   "execution_count": 47,
   "id": "4d164540-07f4-4bc3-98b4-f7baeade543b",
   "metadata": {},
   "outputs": [],
   "source": [
    "con = sqlite3.connect(\"eurlex.db\")"
   ]
  },
  {
   "cell_type": "code",
   "execution_count": 69,
   "id": "c62486ca-df47-4ab5-be9f-769901fa6618",
   "metadata": {},
   "outputs": [],
   "source": [
    "pd.options.display.float_format = '{:.2f}'.format"
   ]
  },
  {
   "cell_type": "code",
   "execution_count": 99,
   "id": "4adc88df-646d-4fa6-81e3-aa37d1b4fc76",
   "metadata": {
    "tags": []
   },
   "outputs": [],
   "source": [
    "sql_oj_lengths = 'select length(content) from oj where year = {}'\n",
    "df2009 = pd.DataFrame.from_records(\n",
    "    con.execute(sql_oj_lengths.format(2009)).fetchall(),\n",
    "    columns=['length2009']\n",
    ")\n",
    "df2021 = pd.DataFrame.from_records(\n",
    "    con.execute(sql_oj_lengths.format(2021)).fetchall(),\n",
    "    columns=['length2021']\n",
    ")"
   ]
  },
  {
   "cell_type": "code",
   "execution_count": 104,
   "id": "0e2b269a-6258-40ac-b3a9-c0b0b992ba78",
   "metadata": {},
   "outputs": [
    {
     "data": {
      "text/html": [
       "<div>\n",
       "<style scoped>\n",
       "    .dataframe tbody tr th:only-of-type {\n",
       "        vertical-align: middle;\n",
       "    }\n",
       "\n",
       "    .dataframe tbody tr th {\n",
       "        vertical-align: top;\n",
       "    }\n",
       "\n",
       "    .dataframe thead th {\n",
       "        text-align: right;\n",
       "    }\n",
       "</style>\n",
       "<table border=\"1\" class=\"dataframe\">\n",
       "  <thead>\n",
       "    <tr style=\"text-align: right;\">\n",
       "      <th></th>\n",
       "      <th>length2009</th>\n",
       "      <th>length2021</th>\n",
       "    </tr>\n",
       "  </thead>\n",
       "  <tbody>\n",
       "    <tr>\n",
       "      <th>count</th>\n",
       "      <td>20353.00</td>\n",
       "      <td>20353.00</td>\n",
       "    </tr>\n",
       "    <tr>\n",
       "      <th>mean</th>\n",
       "      <td>11146.11</td>\n",
       "      <td>13884.61</td>\n",
       "    </tr>\n",
       "    <tr>\n",
       "      <th>std</th>\n",
       "      <td>91484.53</td>\n",
       "      <td>107381.84</td>\n",
       "    </tr>\n",
       "    <tr>\n",
       "      <th>min</th>\n",
       "      <td>702.00</td>\n",
       "      <td>715.00</td>\n",
       "    </tr>\n",
       "    <tr>\n",
       "      <th>25%</th>\n",
       "      <td>1516.00</td>\n",
       "      <td>1445.00</td>\n",
       "    </tr>\n",
       "    <tr>\n",
       "      <th>50%</th>\n",
       "      <td>2474.00</td>\n",
       "      <td>2203.00</td>\n",
       "    </tr>\n",
       "    <tr>\n",
       "      <th>75%</th>\n",
       "      <td>5560.00</td>\n",
       "      <td>5181.00</td>\n",
       "    </tr>\n",
       "    <tr>\n",
       "      <th>max</th>\n",
       "      <td>5373611.00</td>\n",
       "      <td>9035052.00</td>\n",
       "    </tr>\n",
       "  </tbody>\n",
       "</table>\n",
       "</div>"
      ],
      "text/plain": [
       "       length2009  length2021\n",
       "count    20353.00    20353.00\n",
       "mean     11146.11    13884.61\n",
       "std      91484.53   107381.84\n",
       "min        702.00      715.00\n",
       "25%       1516.00     1445.00\n",
       "50%       2474.00     2203.00\n",
       "75%       5560.00     5181.00\n",
       "max    5373611.00  9035052.00"
      ]
     },
     "execution_count": 104,
     "metadata": {},
     "output_type": "execute_result"
    }
   ],
   "source": [
    "df = df2009.join(df2021)\n",
    "df.describe()"
   ]
  },
  {
   "cell_type": "code",
   "execution_count": 107,
   "id": "e15b6d46-a138-415e-b024-85bd3e75e691",
   "metadata": {},
   "outputs": [
    {
     "data": {
      "image/png": "[encoded data removed]",
      "text/plain": [
       "<Figure size 640x480 with 1 Axes>"
      ]
     },
     "metadata": {},
     "output_type": "display_data"
    },
    {
     "data": {
      "text/plain": [
       "<ggplot: (8756256280075)>"
      ]
     },
     "execution_count": 107,
     "metadata": {},
     "output_type": "execute_result"
    }
   ],
   "source": [
    "(p9.ggplot(data=df.head(10000), mapping=p9.aes(x='length2021'))\n",
    "    + p9.geom_histogram()\n",
    "    + p9.scale_x_log10()\n",
    ")"
   ]
  },
  {
   "cell_type": "markdown",
   "id": "4621b8a7-98c0-4dbc-a720-01d1c85d542f",
   "metadata": {},
   "source": [
    "Most documents are in the thousands of characters (including markup)"
   ]
  },
  {
   "cell_type": "markdown",
   "id": "e89130a6-e574-4e35-97f2-9d42c817ea29",
   "metadata": {
    "tags": []
   },
   "source": [
    "### Extracting sentences\n",
    "\n",
    "Metadata about publication is contained in the `*.doc.*` xml files. We can pattern match on the dictionary representation of a document to extract some metadata we're interested in"
   ]
  },
  {
   "cell_type": "code",
   "execution_count": 111,
   "id": "5cb245ef-97ab-44ed-9cd3-f5d83d681f81",
   "metadata": {},
   "outputs": [],
   "source": [
    "def get_metadata(meta_dict_doc: dict) -> dict:\n",
    "    match meta_dict_doc['DOC']:\n",
    "        case {'FMX': {'DOC.MAIN.PUB': {'LEGAL.VALUE': {'text': legval},\n",
    "                                       'REF.PHYS': {'attr': {'FILE': file,}}}},\n",
    "              'BIB.DOC': {'AUTHOR': {'text': author}},\n",
    "              'PAPER': {'VOLUME.PAPER': {'ITEM.VOLUME': {'TITLE': {'TI': {'P': {'text': title}}}}}}}:\n",
    "            return {'legal_value': legval,\n",
    "                    'filename': file,\n",
    "                    'author': author,\n",
    "                    'title': title}\n",
    "\n",
    "def parse_metadata(meta_doc: str) -> dict:\n",
    "    events = ET.iterparse(StringIO(meta_doc), events=('start', 'end'))\n",
    "    dict_doc = xml_dict(events)\n",
    "    return get_metadata(dict_doc)"
   ]
  },
  {
   "cell_type": "code",
   "execution_count": 109,
   "id": "d53a0bb0-91c9-40bb-a3d8-712ded8355a7",
   "metadata": {},
   "outputs": [],
   "source": [
    "metadocs = con.execute(\"\"\"\\\n",
    "  select content from oj where filename like '%.doc.%' and year = 2021\n",
    "\"\"\").fetchall()"
   ]
  },
  {
   "cell_type": "code",
   "execution_count": 122,
   "id": "6a13b8ab-1cfe-4ad4-9b0b-0c9364788389",
   "metadata": {},
   "outputs": [
    {
     "data": {
      "text/plain": [
       "{'legal_value': 'RECRUIT',\n",
       " 'filename': 'CA2021342EN.01000101.xml',\n",
       " 'author': 'COM',\n",
       " 'title': 'European Union Agency for Law Enforcement Training (CEPOL) – Publication of a vacancy for the function of Executive Director (Temporary Agent\\xa0– Grade AD 14) – COM/2021/20066'}"
      ]
     },
     "execution_count": 122,
     "metadata": {},
     "output_type": "execute_result"
    }
   ],
   "source": [
    "metadata = [parse_metadata(metadoc[0]) for metadoc in metadocs]\n",
    "metadata[42]"
   ]
  },
  {
   "cell_type": "code",
   "execution_count": 124,
   "id": "123f597e-c7e7-4647-8348-6f4fbea364bd",
   "metadata": {
    "tags": []
   },
   "outputs": [
    {
     "data": {
      "text/plain": [
       "{'ACT_ADOPT_INTERNATION',\n",
       " 'ADD',\n",
       " 'AGREE',\n",
       " 'AGREE_AMEND',\n",
       " 'AGREE_INTERINSTIT',\n",
       " 'AGREE_INTERNATION',\n",
       " 'AID_STATE',\n",
       " 'ANNOUNC',\n",
       " 'BUDGET',\n",
       " 'BUDGET_SUPPL_AMEND',\n",
       " 'COMMUNIC',\n",
       " 'CONCL',\n",
       " 'CORRIGENDUM',\n",
       " 'DATPRO',\n",
       " 'DEC',\n",
       " 'DECLAR',\n",
       " 'DEC_DEL',\n",
       " 'DEC_IMPL',\n",
       " 'DIR',\n",
       " 'DIR_DEL',\n",
       " 'DIR_IMPL',\n",
       " 'EXCH_RATE',\n",
       " 'EXCH_RATE_MRO',\n",
       " 'GUIDELINE',\n",
       " 'GUIDELINE_GEN',\n",
       " 'INFO',\n",
       " 'INFO_JUDICIAL',\n",
       " 'JOINT_DEC',\n",
       " 'MP.EP',\n",
       " 'NOTE',\n",
       " 'NOTICE',\n",
       " 'NOTIF',\n",
       " 'OPIN',\n",
       " 'OPIN_EXPLOR',\n",
       " 'OWNINI_OPIN',\n",
       " 'OWNINI_OPIN_ADDIT',\n",
       " 'POSIT',\n",
       " 'PROC_RULES',\n",
       " 'RECO',\n",
       " 'RECRUIT',\n",
       " 'REG',\n",
       " 'REG_DEL',\n",
       " 'REG_IMPL',\n",
       " 'REPORT',\n",
       " 'REPORT_ANNUAL',\n",
       " 'REPORT_ANNUAL_DAS',\n",
       " 'RES',\n",
       " 'RES_LEGIS',\n",
       " 'STAT',\n",
       " 'STATUTE',\n",
       " 'STAT_REASON',\n",
       " 'SUM'}"
      ]
     },
     "execution_count": 124,
     "metadata": {},
     "output_type": "execute_result"
    }
   ],
   "source": [
    "set(m['legal_value'] for m in metadata if m)"
   ]
  },
  {
   "cell_type": "markdown",
   "id": "2a43c3b3-cc21-4e1e-bb30-b2f6e0033c57",
   "metadata": {},
   "source": [
    "Let's make sentences for all regulations from the year 2021"
   ]
  },
  {
   "cell_type": "code",
   "execution_count": 161,
   "id": "05ef3ea2-ccbb-4363-b6fc-b37e73a4c730",
   "metadata": {},
   "outputs": [],
   "source": [
    "def sentences(xml: str) -> [str]:\n",
    "    dd = doc_dict(xml)\n",
    "    return [v.strip() for k,v in string_items(dd)\n",
    "            if k == 'text' and len(v) >= 72]"
   ]
  },
  {
   "cell_type": "code",
   "execution_count": 163,
   "id": "465a887e-86d8-4d3f-ac36-b714dbe7ead7",
   "metadata": {},
   "outputs": [
    {
     "data": {
      "text/plain": [
       "['amending Regulation (EC) No 1126/2008 adopting certain international accounting standards in accordance with Regulation (EC) No 1606/2002 of the European Parliament and of the Council as regards International Accounting Standard 39 and International Financial Reporting Standards 4, 7, 9 and 16',\n",
       " 'Having regard to Regulation (EC) No 1606/2002 of the European Parliament and of the Council of',\n",
       " 'Regulation (EU) 2016/1011 of the European Parliament and of the Council of']"
      ]
     },
     "execution_count": 163,
     "metadata": {},
     "output_type": "execute_result"
    }
   ],
   "source": [
    "regs = [m['filename'] for m in metadata if m and m['legal_value'] == 'REG']\n",
    "cur = con.execute(f\"select content from oj where filename in ({','.join(['?']*len(regs))})\", regs)\n",
    "all_reg_sentences2021 = []\n",
    "for (xmldoc,) in cur.fetchall():\n",
    "    all_reg_sentences2021.extend(sentences(xmldoc))\n",
    "all_reg_sentences2021[:3]"
   ]
  },
  {
   "cell_type": "code",
   "execution_count": 164,
   "id": "f9b44733-2b4b-48d9-9b0a-3161a4b800a9",
   "metadata": {},
   "outputs": [
    {
     "data": {
      "text/plain": [
       "16792"
      ]
     },
     "execution_count": 164,
     "metadata": {},
     "output_type": "execute_result"
    }
   ],
   "source": [
    "len(all_reg_sentences2021)"
   ]
  },
  {
   "cell_type": "markdown",
   "id": "3707a333-19ed-460f-883f-dd4e78f2df96",
   "metadata": {},
   "source": [
    "TODO: derive sentences/statements from the document logic"
   ]
  },
  {
   "cell_type": "markdown",
   "id": "7b51e8ae-bd68-45bd-be38-9282efbe0e3b",
   "metadata": {},
   "source": [
    "### Embedding Sentences for a Q/A model\n",
    "\n",
    "(TBD)\n",
    "\n",
    "To create a natural language interface we apply vector search techniques. See https://github.com/mye/simple-vector-search for a simple introduction to this topic."
   ]
  },
  {
   "cell_type": "code",
   "execution_count": 165,
   "id": "3a1e49a7-38ed-446a-bee1-9f7da74520d8",
   "metadata": {},
   "outputs": [],
   "source": [
    "import torch, numpy as np\n",
    "from sentence_transformers import SentenceTransformer"
   ]
  }
 ],
 "metadata": {
  "kernelspec": {
   "display_name": "Python 3 (ipykernel)",
   "language": "python",
   "name": "python3"
  },
  "language_info": {
   "codemirror_mode": {
    "name": "ipython",
    "version": 3
   },
   "file_extension": ".py",
   "mimetype": "text/x-python",
   "name": "python",
   "nbconvert_exporter": "python",
   "pygments_lexer": "ipython3",
   "version": "3.10.6"
  }
 },
 "nbformat": 4,
 "nbformat_minor": 5
}
